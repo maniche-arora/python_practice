{
 "cells": [
  {
   "cell_type": "code",
   "execution_count": 11,
   "id": "cc803708-9607-475f-bae9-490f812bf952",
   "metadata": {},
   "outputs": [],
   "source": [
    "def add_expense(expenses):\n",
    "    from datetime import datetime\n",
    "    date = input(\"Enter date (YYYY-MM-DD): \")\n",
    "    category = input(\"Enter category (e.g., Food, Travel): \")\n",
    "    try:\n",
    "        amount = float(input(\"Enter amount: \"))\n",
    "    except ValueError:\n",
    "        print(\"Invalid amount. Try again.\")\n",
    "        return\n",
    "    description = input(\"Enter a short description: \")\n",
    "\n",
    "    # Validate date format\n",
    "    try:\n",
    "        datetime.strptime(date, \"%Y-%m-%d\")\n",
    "    except ValueError:\n",
    "        print(\"Invalid date format. Use YYYY-MM-DD.\")\n",
    "        return\n",
    "\n",
    "    expense = {\n",
    "        \"date\": date,\n",
    "        \"category\": category,\n",
    "        \"amount\": amount,\n",
    "        \"description\": description\n",
    "    }\n",
    "    expenses.append(expense)\n",
    "    print(\"Expense added.\")\n"
   ]
  },
  {
   "cell_type": "code",
   "execution_count": 2,
   "id": "9b0eeddf-3506-4e13-ad7f-2b369715f99f",
   "metadata": {},
   "outputs": [],
   "source": [
    "def view_expenses(expenses):\n",
    "    if not expenses:\n",
    "        print(\"No expenses recorded yet.\")\n",
    "        return\n",
    "\n",
    "    print(\"\\nYour Expenses:\")\n",
    "    for exp in expenses:\n",
    "        if all(k in exp for k in (\"date\", \"category\", \"amount\", \"description\")):\n",
    "            print(f\"{exp['date']} | {exp['category']} | {exp['amount']} | {exp['description']}\")\n",
    "        else:\n",
    "            print(\"Skipping incomplete record.\")\n"
   ]
  },
  {
   "cell_type": "code",
   "execution_count": 3,
   "id": "45c45344-6608-450a-949f-9844d2af3161",
   "metadata": {},
   "outputs": [],
   "source": [
    "def set_budget():\n",
    "    try:\n",
    "        return float(input(\"Enter your monthly budget: \"))\n",
    "    except ValueError:\n",
    "        print(\"Invalid amount. Try again.\")\n",
    "        return set_budget()\n",
    "\n",
    "def track_budget(expenses, budget):\n",
    "    total_spent = sum(exp[\"amount\"] for exp in expenses)\n",
    "    print(f\"\\nTotal spent so far: {total_spent}\")\n",
    "\n",
    "    if total_spent > budget:\n",
    "        print(\"⚠️ You have exceeded your budget!\")\n",
    "    else:\n",
    "        print(f\"You have {budget - total_spent} left for the month.\")\n"
   ]
  },
  {
   "cell_type": "code",
   "execution_count": 8,
   "id": "66433f29-87cf-4649-a88b-4faffc0f3261",
   "metadata": {},
   "outputs": [],
   "source": [
    "import csv\n",
    "\n",
    "def save_expenses(expenses, filename=\"expenses.csv\"):\n",
    "    with open(filename, \"w\", newline=\"\") as file:\n",
    "        writer = csv.DictWriter(file, fieldnames=[\"date\", \"category\", \"amount\", \"description\"])\n",
    "        writer.writeheader()\n",
    "        writer.writerows(expenses)\n",
    "    print(\"Expenses saved successfully.\")\n",
    "\n",
    "def load_expenses(filename=\"expenses.csv\"):\n",
    "    expenses = []\n",
    "    try:\n",
    "        with open(filename, newline=\"\") as file:\n",
    "            reader = csv.DictReader(file)\n",
    "            for i, row in enumerate(reader, 1):\n",
    "                # Check if all required keys are present\n",
    "                if all(k in row and row[k] for k in [\"date\", \"category\", \"amount\", \"description\"]):\n",
    "                    try:\n",
    "                        row[\"amount\"] = float(row[\"amount\"])\n",
    "                        expenses.append(row)\n",
    "                    except ValueError:\n",
    "                        print(f\"⚠️ Skipping row {i}: Invalid amount.\")\n",
    "                else:\n",
    "                    print(f\"⚠️ Skipping row {i}: Missing one or more required fields.\")\n",
    "    except FileNotFoundError:\n",
    "        print(\"No previous expense file found. Starting fresh.\")\n",
    "    return expenses\n",
    "\n"
   ]
  },
  {
   "cell_type": "code",
   "execution_count": 9,
   "id": "81bfb55f-e024-4d51-a273-d268d848e006",
   "metadata": {},
   "outputs": [],
   "source": [
    "def menu():\n",
    "    expenses = load_expenses()\n",
    "    budget = 0\n",
    "\n",
    "    while True:\n",
    "        print(\"\\n--- Personal Expense Tracker ---\")\n",
    "        print(\"1. Add expense\")\n",
    "        print(\"2. View expenses\")\n",
    "        print(\"3. Track budget\")\n",
    "        print(\"4. Save expenses\")\n",
    "        print(\"5. Exit\")\n",
    "\n",
    "        choice = input(\"Enter your choice (1-5): \")\n",
    "\n",
    "        if choice == \"1\":\n",
    "            add_expense(expenses)\n",
    "        elif choice == \"2\":\n",
    "            view_expenses(expenses)\n",
    "        elif choice == \"3\":\n",
    "            if budget == 0:\n",
    "                budget = set_budget()\n",
    "            track_budget(expenses, budget)\n",
    "        elif choice == \"4\":\n",
    "            save_expenses(expenses)\n",
    "        elif choice == \"5\":\n",
    "            save_expenses(expenses)\n",
    "            print(\"Exiting. Bye!\")\n",
    "            break\n",
    "        else:\n",
    "            print(\"Invalid choice. Try again.\")\n",
    "\n",
    "\n"
   ]
  },
  {
   "cell_type": "code",
   "execution_count": 12,
   "id": "1fd2ed40-936e-4c7b-85a8-cc67be96723f",
   "metadata": {},
   "outputs": [
    {
     "name": "stdout",
     "output_type": "stream",
     "text": [
      "\n",
      "--- Personal Expense Tracker ---\n",
      "1. Add expense\n",
      "2. View expenses\n",
      "3. Track budget\n",
      "4. Save expenses\n",
      "5. Exit\n"
     ]
    },
    {
     "name": "stdin",
     "output_type": "stream",
     "text": [
      "Enter your choice (1-5):  1\n",
      "Enter date (YYYY-MM-DD):  2025-03-24\n",
      "Enter category (e.g., Food, Travel):  Food\n",
      "Enter amount:  2000\n",
      "Enter a short description:  It was a vsist to a new cafe nearby\n"
     ]
    },
    {
     "name": "stdout",
     "output_type": "stream",
     "text": [
      "Expense added.\n",
      "\n",
      "--- Personal Expense Tracker ---\n",
      "1. Add expense\n",
      "2. View expenses\n",
      "3. Track budget\n",
      "4. Save expenses\n",
      "5. Exit\n"
     ]
    },
    {
     "name": "stdin",
     "output_type": "stream",
     "text": [
      "Enter your choice (1-5):  1\n",
      "Enter date (YYYY-MM-DD):  2025-03-23\n",
      "Enter category (e.g., Food, Travel):  Travel\n",
      "Enter amount:  300\n",
      "Enter a short description:  User Bill\n"
     ]
    },
    {
     "name": "stdout",
     "output_type": "stream",
     "text": [
      "Expense added.\n",
      "\n",
      "--- Personal Expense Tracker ---\n",
      "1. Add expense\n",
      "2. View expenses\n",
      "3. Track budget\n",
      "4. Save expenses\n",
      "5. Exit\n"
     ]
    },
    {
     "name": "stdin",
     "output_type": "stream",
     "text": [
      "Enter your choice (1-5):  2\n"
     ]
    },
    {
     "name": "stdout",
     "output_type": "stream",
     "text": [
      "\n",
      "Your Expenses:\n",
      "2025-06-25 | Food | 25000.0 | Birthday\n",
      "2025-03-24 | Food | 2000.0 | It was a vsist to a new cafe nearby\n",
      "2025-03-23 | Travel | 300.0 | User Bill\n",
      "\n",
      "--- Personal Expense Tracker ---\n",
      "1. Add expense\n",
      "2. View expenses\n",
      "3. Track budget\n",
      "4. Save expenses\n",
      "5. Exit\n"
     ]
    },
    {
     "name": "stdin",
     "output_type": "stream",
     "text": [
      "Enter your choice (1-5):  5\n"
     ]
    },
    {
     "name": "stdout",
     "output_type": "stream",
     "text": [
      "Expenses saved successfully.\n",
      "Exiting. Bye!\n"
     ]
    }
   ],
   "source": [
    "if __name__ == \"__main__\":\n",
    "    menu()"
   ]
  },
  {
   "cell_type": "code",
   "execution_count": null,
   "id": "0b44bdec-1609-4d35-83a8-e38578680702",
   "metadata": {},
   "outputs": [],
   "source": []
  }
 ],
 "metadata": {
  "kernelspec": {
   "display_name": "Python 3 (ipykernel)",
   "language": "python",
   "name": "python3"
  },
  "language_info": {
   "codemirror_mode": {
    "name": "ipython",
    "version": 3
   },
   "file_extension": ".py",
   "mimetype": "text/x-python",
   "name": "python",
   "nbconvert_exporter": "python",
   "pygments_lexer": "ipython3",
   "version": "3.10.4"
  }
 },
 "nbformat": 4,
 "nbformat_minor": 5
}
